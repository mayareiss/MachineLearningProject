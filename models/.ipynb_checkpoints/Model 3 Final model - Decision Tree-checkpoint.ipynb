{
 "cells": [
  {
   "cell_type": "code",
   "execution_count": 1,
   "metadata": {},
   "outputs": [],
   "source": [
    "import pandas as pd\n",
    "import matplotlib.pyplot as plt"
   ]
  },
  {
   "cell_type": "code",
   "execution_count": 2,
   "metadata": {},
   "outputs": [
    {
     "data": {
      "text/html": [
       "<div>\n",
       "<style scoped>\n",
       "    .dataframe tbody tr th:only-of-type {\n",
       "        vertical-align: middle;\n",
       "    }\n",
       "\n",
       "    .dataframe tbody tr th {\n",
       "        vertical-align: top;\n",
       "    }\n",
       "\n",
       "    .dataframe thead th {\n",
       "        text-align: right;\n",
       "    }\n",
       "</style>\n",
       "<table border=\"1\" class=\"dataframe\">\n",
       "  <thead>\n",
       "    <tr style=\"text-align: right;\">\n",
       "      <th></th>\n",
       "      <th>int_rate</th>\n",
       "      <th>annual_inc</th>\n",
       "      <th>dti</th>\n",
       "      <th>delinq_2yrs</th>\n",
       "      <th>fico_range_low</th>\n",
       "      <th>inq_last_6mths</th>\n",
       "      <th>mths_since_last_delinq</th>\n",
       "      <th>mths_since_last_record</th>\n",
       "      <th>open_acc</th>\n",
       "      <th>pub_rec</th>\n",
       "      <th>revol_bal</th>\n",
       "      <th>revol_util</th>\n",
       "      <th>total_acc</th>\n",
       "      <th>application_type</th>\n",
       "      <th>earliest_cr_line</th>\n",
       "      <th>tax_liens</th>\n",
       "      <th>pub_rec_bankruptcies</th>\n",
       "      <th>term</th>\n",
       "      <th>loan_amnt</th>\n",
       "      <th>credit_start_date</th>\n",
       "    </tr>\n",
       "  </thead>\n",
       "  <tbody>\n",
       "    <tr>\n",
       "      <th>0</th>\n",
       "      <td>1</td>\n",
       "      <td>68000.0</td>\n",
       "      <td>15.74</td>\n",
       "      <td>0.0</td>\n",
       "      <td>750.0</td>\n",
       "      <td>0.0</td>\n",
       "      <td>0.0</td>\n",
       "      <td>0.0</td>\n",
       "      <td>11.0</td>\n",
       "      <td>0.0</td>\n",
       "      <td>14471.0</td>\n",
       "      <td>30.6</td>\n",
       "      <td>15.0</td>\n",
       "      <td>Individual</td>\n",
       "      <td>Mar-10</td>\n",
       "      <td>0.0</td>\n",
       "      <td>0.0</td>\n",
       "      <td>36</td>\n",
       "      <td>13500.0</td>\n",
       "      <td>3</td>\n",
       "    </tr>\n",
       "    <tr>\n",
       "      <th>1</th>\n",
       "      <td>3</td>\n",
       "      <td>110000.0</td>\n",
       "      <td>23.44</td>\n",
       "      <td>0.0</td>\n",
       "      <td>675.0</td>\n",
       "      <td>0.0</td>\n",
       "      <td>39.0</td>\n",
       "      <td>0.0</td>\n",
       "      <td>12.0</td>\n",
       "      <td>0.0</td>\n",
       "      <td>13362.0</td>\n",
       "      <td>50.8</td>\n",
       "      <td>29.0</td>\n",
       "      <td>Individual</td>\n",
       "      <td>Sep-03</td>\n",
       "      <td>0.0</td>\n",
       "      <td>0.0</td>\n",
       "      <td>36</td>\n",
       "      <td>20000.0</td>\n",
       "      <td>1</td>\n",
       "    </tr>\n",
       "    <tr>\n",
       "      <th>2</th>\n",
       "      <td>2</td>\n",
       "      <td>27840.0</td>\n",
       "      <td>15.99</td>\n",
       "      <td>0.0</td>\n",
       "      <td>685.0</td>\n",
       "      <td>1.0</td>\n",
       "      <td>0.0</td>\n",
       "      <td>0.0</td>\n",
       "      <td>14.0</td>\n",
       "      <td>0.0</td>\n",
       "      <td>5771.0</td>\n",
       "      <td>30.9</td>\n",
       "      <td>20.0</td>\n",
       "      <td>Individual</td>\n",
       "      <td>Nov-11</td>\n",
       "      <td>0.0</td>\n",
       "      <td>0.0</td>\n",
       "      <td>36</td>\n",
       "      <td>1600.0</td>\n",
       "      <td>3</td>\n",
       "    </tr>\n",
       "    <tr>\n",
       "      <th>3</th>\n",
       "      <td>2</td>\n",
       "      <td>28000.0</td>\n",
       "      <td>8.62</td>\n",
       "      <td>0.0</td>\n",
       "      <td>700.0</td>\n",
       "      <td>0.0</td>\n",
       "      <td>49.0</td>\n",
       "      <td>0.0</td>\n",
       "      <td>7.0</td>\n",
       "      <td>0.0</td>\n",
       "      <td>4132.0</td>\n",
       "      <td>18.2</td>\n",
       "      <td>17.0</td>\n",
       "      <td>Individual</td>\n",
       "      <td>Jan-10</td>\n",
       "      <td>0.0</td>\n",
       "      <td>0.0</td>\n",
       "      <td>36</td>\n",
       "      <td>6400.0</td>\n",
       "      <td>3</td>\n",
       "    </tr>\n",
       "    <tr>\n",
       "      <th>4</th>\n",
       "      <td>2</td>\n",
       "      <td>72500.0</td>\n",
       "      <td>29.58</td>\n",
       "      <td>0.0</td>\n",
       "      <td>680.0</td>\n",
       "      <td>0.0</td>\n",
       "      <td>47.0</td>\n",
       "      <td>0.0</td>\n",
       "      <td>9.0</td>\n",
       "      <td>0.0</td>\n",
       "      <td>27733.0</td>\n",
       "      <td>74.2</td>\n",
       "      <td>20.0</td>\n",
       "      <td>Individual</td>\n",
       "      <td>Jul-07</td>\n",
       "      <td>0.0</td>\n",
       "      <td>0.0</td>\n",
       "      <td>60</td>\n",
       "      <td>16000.0</td>\n",
       "      <td>2</td>\n",
       "    </tr>\n",
       "  </tbody>\n",
       "</table>\n",
       "</div>"
      ],
      "text/plain": [
       "   int_rate  annual_inc    dti  delinq_2yrs  fico_range_low  inq_last_6mths  \\\n",
       "0         1     68000.0  15.74          0.0           750.0             0.0   \n",
       "1         3    110000.0  23.44          0.0           675.0             0.0   \n",
       "2         2     27840.0  15.99          0.0           685.0             1.0   \n",
       "3         2     28000.0   8.62          0.0           700.0             0.0   \n",
       "4         2     72500.0  29.58          0.0           680.0             0.0   \n",
       "\n",
       "   mths_since_last_delinq  mths_since_last_record  open_acc  pub_rec  \\\n",
       "0                     0.0                     0.0      11.0      0.0   \n",
       "1                    39.0                     0.0      12.0      0.0   \n",
       "2                     0.0                     0.0      14.0      0.0   \n",
       "3                    49.0                     0.0       7.0      0.0   \n",
       "4                    47.0                     0.0       9.0      0.0   \n",
       "\n",
       "   revol_bal  revol_util  total_acc application_type earliest_cr_line  \\\n",
       "0    14471.0        30.6       15.0       Individual           Mar-10   \n",
       "1    13362.0        50.8       29.0       Individual           Sep-03   \n",
       "2     5771.0        30.9       20.0       Individual           Nov-11   \n",
       "3     4132.0        18.2       17.0       Individual           Jan-10   \n",
       "4    27733.0        74.2       20.0       Individual           Jul-07   \n",
       "\n",
       "   tax_liens  pub_rec_bankruptcies  term  loan_amnt  credit_start_date  \n",
       "0        0.0                   0.0    36    13500.0                  3  \n",
       "1        0.0                   0.0    36    20000.0                  1  \n",
       "2        0.0                   0.0    36     1600.0                  3  \n",
       "3        0.0                   0.0    36     6400.0                  3  \n",
       "4        0.0                   0.0    60    16000.0                  2  "
      ]
     },
     "execution_count": 2,
     "metadata": {},
     "output_type": "execute_result"
    }
   ],
   "source": [
    "df = pd.read_csv(\"final_df_project_3_0502c.csv\")\n",
    "df.head()"
   ]
  },
  {
   "cell_type": "markdown",
   "metadata": {},
   "source": [
    "# Stats Summary"
   ]
  },
  {
   "cell_type": "code",
   "execution_count": 3,
   "metadata": {},
   "outputs": [
    {
     "data": {
      "text/html": [
       "<div>\n",
       "<style scoped>\n",
       "    .dataframe tbody tr th:only-of-type {\n",
       "        vertical-align: middle;\n",
       "    }\n",
       "\n",
       "    .dataframe tbody tr th {\n",
       "        vertical-align: top;\n",
       "    }\n",
       "\n",
       "    .dataframe thead th {\n",
       "        text-align: right;\n",
       "    }\n",
       "</style>\n",
       "<table border=\"1\" class=\"dataframe\">\n",
       "  <thead>\n",
       "    <tr style=\"text-align: right;\">\n",
       "      <th></th>\n",
       "      <th>int_rate</th>\n",
       "      <th>annual_inc</th>\n",
       "      <th>dti</th>\n",
       "      <th>fico_range_low</th>\n",
       "      <th>term</th>\n",
       "      <th>open_acc</th>\n",
       "      <th>revol_bal</th>\n",
       "      <th>loan_amnt</th>\n",
       "      <th>pub_rec_bankruptcies</th>\n",
       "      <th>credit_start_date</th>\n",
       "    </tr>\n",
       "  </thead>\n",
       "  <tbody>\n",
       "    <tr>\n",
       "      <th>0</th>\n",
       "      <td>1</td>\n",
       "      <td>68000.0</td>\n",
       "      <td>15.74</td>\n",
       "      <td>750.0</td>\n",
       "      <td>36</td>\n",
       "      <td>11.0</td>\n",
       "      <td>14471.0</td>\n",
       "      <td>13500.0</td>\n",
       "      <td>0.0</td>\n",
       "      <td>3</td>\n",
       "    </tr>\n",
       "    <tr>\n",
       "      <th>1</th>\n",
       "      <td>3</td>\n",
       "      <td>110000.0</td>\n",
       "      <td>23.44</td>\n",
       "      <td>675.0</td>\n",
       "      <td>36</td>\n",
       "      <td>12.0</td>\n",
       "      <td>13362.0</td>\n",
       "      <td>20000.0</td>\n",
       "      <td>0.0</td>\n",
       "      <td>1</td>\n",
       "    </tr>\n",
       "    <tr>\n",
       "      <th>2</th>\n",
       "      <td>2</td>\n",
       "      <td>27840.0</td>\n",
       "      <td>15.99</td>\n",
       "      <td>685.0</td>\n",
       "      <td>36</td>\n",
       "      <td>14.0</td>\n",
       "      <td>5771.0</td>\n",
       "      <td>1600.0</td>\n",
       "      <td>0.0</td>\n",
       "      <td>3</td>\n",
       "    </tr>\n",
       "    <tr>\n",
       "      <th>3</th>\n",
       "      <td>2</td>\n",
       "      <td>28000.0</td>\n",
       "      <td>8.62</td>\n",
       "      <td>700.0</td>\n",
       "      <td>36</td>\n",
       "      <td>7.0</td>\n",
       "      <td>4132.0</td>\n",
       "      <td>6400.0</td>\n",
       "      <td>0.0</td>\n",
       "      <td>3</td>\n",
       "    </tr>\n",
       "    <tr>\n",
       "      <th>4</th>\n",
       "      <td>2</td>\n",
       "      <td>72500.0</td>\n",
       "      <td>29.58</td>\n",
       "      <td>680.0</td>\n",
       "      <td>60</td>\n",
       "      <td>9.0</td>\n",
       "      <td>27733.0</td>\n",
       "      <td>16000.0</td>\n",
       "      <td>0.0</td>\n",
       "      <td>2</td>\n",
       "    </tr>\n",
       "  </tbody>\n",
       "</table>\n",
       "</div>"
      ],
      "text/plain": [
       "   int_rate  annual_inc    dti  fico_range_low  term  open_acc  revol_bal  \\\n",
       "0         1     68000.0  15.74           750.0    36      11.0    14471.0   \n",
       "1         3    110000.0  23.44           675.0    36      12.0    13362.0   \n",
       "2         2     27840.0  15.99           685.0    36      14.0     5771.0   \n",
       "3         2     28000.0   8.62           700.0    36       7.0     4132.0   \n",
       "4         2     72500.0  29.58           680.0    60       9.0    27733.0   \n",
       "\n",
       "   loan_amnt  pub_rec_bankruptcies  credit_start_date  \n",
       "0    13500.0                   0.0                  3  \n",
       "1    20000.0                   0.0                  1  \n",
       "2     1600.0                   0.0                  3  \n",
       "3     6400.0                   0.0                  3  \n",
       "4    16000.0                   0.0                  2  "
      ]
     },
     "execution_count": 3,
     "metadata": {},
     "output_type": "execute_result"
    }
   ],
   "source": [
    "# select toal features which will be used as X values\n",
    "test_df = df[[\"int_rate\",\"annual_inc\", \"dti\", \"fico_range_low\", \"term\",\n",
    "              \"open_acc\", \"revol_bal\", \"loan_amnt\",\"pub_rec_bankruptcies\", \"credit_start_date\"]]\n",
    "test_df.head()"
   ]
  },
  {
   "cell_type": "code",
   "execution_count": 5,
   "metadata": {},
   "outputs": [],
   "source": [
    "#Select Model features\n",
    "feature_names = [\"annual_inc\", \"fico_range_low\", \"term\", \"loan_amnt\"]\n",
    "X = test_df[feature_names]\n",
    "y = test_df[\"int_rate\"]\n",
    "X.to_csv(\"features1.csv\",index=False)\n"
   ]
  },
  {
   "cell_type": "markdown",
   "metadata": {},
   "source": [
    "# Create training and test sets"
   ]
  },
  {
   "cell_type": "code",
   "execution_count": 5,
   "metadata": {},
   "outputs": [],
   "source": [
    "from sklearn.model_selection import train_test_split\n",
    "\n",
    "X_train, X_test, y_train, y_test = train_test_split(X, y, random_state=0)"
   ]
  },
  {
   "cell_type": "markdown",
   "metadata": {},
   "source": [
    "# Apply scaling"
   ]
  },
  {
   "cell_type": "code",
   "execution_count": 6,
   "metadata": {},
   "outputs": [],
   "source": [
    "from sklearn.preprocessing import StandardScaler\n",
    "scaler = StandardScaler()\n",
    "X_train_scaled = scaler.fit_transform(X_train)\n",
    "X_test_scaled = scaler.transform(X_test)"
   ]
  },
  {
   "cell_type": "markdown",
   "metadata": {},
   "source": [
    "# Build Models "
   ]
  },
  {
   "cell_type": "code",
   "execution_count": 8,
   "metadata": {},
   "outputs": [
    {
     "name": "stderr",
     "output_type": "stream",
     "text": [
      "/Users/mayareiss/anaconda3/lib/python3.7/site-packages/sklearn/linear_model/logistic.py:432: FutureWarning: Default solver will be changed to 'lbfgs' in 0.22. Specify a solver to silence this warning.\n",
      "  FutureWarning)\n",
      "/Users/mayareiss/anaconda3/lib/python3.7/site-packages/sklearn/linear_model/logistic.py:469: FutureWarning: Default multi_class will be changed to 'auto' in 0.22. Specify the multi_class option to silence this warning.\n",
      "  \"this warning.\", FutureWarning)\n"
     ]
    },
    {
     "name": "stdout",
     "output_type": "stream",
     "text": [
      "Accuracy of logistic regression on training 0.45135351302006455\n",
      "Accuracy of logistic regression on testing 0.4507892439212829\n"
     ]
    }
   ],
   "source": [
    "## Logistic Regression\n",
    "from sklearn.linear_model import LogisticRegression\n",
    "logreg = LogisticRegression()\n",
    "logreg.fit(X_train_scaled, y_train)\n",
    "\n",
    "print('Accuracy of logistic regression on training', logreg.score(X_train_scaled, y_train))\n",
    "print('Accuracy of logistic regression on testing', logreg.score(X_test_scaled, y_test))"
   ]
  },
  {
   "cell_type": "code",
   "execution_count": 9,
   "metadata": {},
   "outputs": [
    {
     "name": "stdout",
     "output_type": "stream",
     "text": [
      "Accuracy of Decision tree on training 0.7030133435508963\n",
      "Accuracy of Decision tree on testing 0.41712153665446006\n"
     ]
    }
   ],
   "source": [
    "## Decision Tree\n",
    "from sklearn.tree import DecisionTreeClassifier\n",
    "dt = DecisionTreeClassifier()\n",
    "dt.fit(X_train_scaled, y_train)\n",
    "\n",
    "print('Accuracy of Decision tree on training', dt.score(X_train_scaled, y_train))\n",
    "print('Accuracy of Decision tree on testing', dt.score(X_test_scaled, y_test))"
   ]
  },
  {
   "cell_type": "code",
   "execution_count": 10,
   "metadata": {},
   "outputs": [
    {
     "name": "stdout",
     "output_type": "stream",
     "text": [
      "Accuracy of Decision tree on training 0.46364180741987693\n",
      "Accuracy of Decision tree on testing 0.4633329773936421\n"
     ]
    }
   ],
   "source": [
    "# Setting max decision tree depth to help avoid overfitting\n",
    "dt2 = DecisionTreeClassifier(max_depth=5)\n",
    "dt2.fit(X_train_scaled, y_train)\n",
    "print('Accuracy of Decision tree on training', dt2.score(X_train_scaled, y_train))\n",
    "print('Accuracy of Decision tree on testing', dt2.score(X_test_scaled, y_test))"
   ]
  },
  {
   "cell_type": "code",
   "execution_count": 15,
   "metadata": {},
   "outputs": [
    {
     "name": "stdout",
     "output_type": "stream",
     "text": [
      "Accuracy of Decision tree on training 0.4753040667156607\n",
      "Accuracy of Decision tree on testing 0.47134476109118545\n"
     ]
    }
   ],
   "source": [
    "# Setting max decision tree depth to help avoid overfitting\n",
    "from sklearn.tree import DecisionTreeClassifier\n",
    "dt3 = DecisionTreeClassifier(max_depth=10)\n",
    "dt3.fit(X_train_scaled, y_train)\n",
    "print('Accuracy of Decision tree on training', dt3.score(X_train_scaled, y_train))\n",
    "print('Accuracy of Decision tree on testing', dt3.score(X_test_scaled, y_test))"
   ]
  },
  {
   "cell_type": "code",
   "execution_count": 12,
   "metadata": {},
   "outputs": [
    {
     "name": "stdout",
     "output_type": "stream",
     "text": [
      "Accuracy of Decision tree on training 0.4950534851730181\n",
      "Accuracy of Decision tree on testing 0.46556597551553675\n"
     ]
    }
   ],
   "source": [
    "# Setting max decision tree depth to help avoid overfitting\n",
    "dt4 = DecisionTreeClassifier(max_depth=15)\n",
    "dt4.fit(X_train_scaled, y_train)\n",
    "print('Accuracy of Decision tree on training', dt4.score(X_train_scaled, y_train))\n",
    "print('Accuracy of Decision tree on testing', dt4.score(X_test_scaled, y_test))"
   ]
  },
  {
   "cell_type": "code",
   "execution_count": 13,
   "metadata": {},
   "outputs": [
    {
     "name": "stdout",
     "output_type": "stream",
     "text": [
      "Accuracy of Decision tree on training 0.5460125332646579\n",
      "Accuracy of Decision tree on testing 0.4517691249536755\n"
     ]
    }
   ],
   "source": [
    "# Setting max decision tree depth to help avoid overfitting\n",
    "dt5 = DecisionTreeClassifier(max_depth=20)\n",
    "dt5.fit(X_train_scaled, y_train)\n",
    "print('Accuracy of Decision tree on training', dt5.score(X_train_scaled, y_train))\n",
    "print('Accuracy of Decision tree on testing', dt5.score(X_test_scaled, y_test))"
   ]
  },
  {
   "cell_type": "code",
   "execution_count": 14,
   "metadata": {},
   "outputs": [
    {
     "name": "stdout",
     "output_type": "stream",
     "text": [
      "Accuracy of Knn on training 0.5376709819119824\n",
      "Accuracy of Knn on testing 0.42232558431687844\n"
     ]
    }
   ],
   "source": [
    "# K-nearest neighbor \n",
    "from sklearn.neighbors import KNeighborsClassifier\n",
    "knn = KNeighborsClassifier()\n",
    "knn.fit(X_train_scaled, y_train)\n",
    "print('Accuracy of Knn on training', knn.score(X_train_scaled, y_train))\n",
    "print('Accuracy of Knn on testing', knn.score(X_test_scaled, y_test))"
   ]
  },
  {
   "cell_type": "code",
   "execution_count": 15,
   "metadata": {},
   "outputs": [
    {
     "name": "stdout",
     "output_type": "stream",
     "text": [
      "Accuracy of LDA on training 0.45628537150681836\n",
      "Accuracy of LDA on testing 0.45574204003693397\n"
     ]
    }
   ],
   "source": [
    "# Linear Discriminant Analysis \n",
    "from sklearn.discriminant_analysis import LinearDiscriminantAnalysis\n",
    "lda = LinearDiscriminantAnalysis()\n",
    "lda.fit(X_train_scaled,y_train)\n",
    "print('Accuracy of LDA on training', lda.score(X_train_scaled, y_train))\n",
    "print('Accuracy of LDA on testing', lda.score(X_test_scaled, y_test))"
   ]
  },
  {
   "cell_type": "code",
   "execution_count": 16,
   "metadata": {},
   "outputs": [
    {
     "name": "stdout",
     "output_type": "stream",
     "text": [
      "Accuracy of GNB on training 0.4113029695839065\n",
      "Accuracy of GNB on testing 0.41134275107881135\n"
     ]
    }
   ],
   "source": [
    "# Gaussian Naive Bayes \n",
    "from sklearn.naive_bayes import GaussianNB\n",
    "gnb = GaussianNB()\n",
    "gnb.fit(X_train_scaled, y_train)\n",
    "print('Accuracy of GNB on training', gnb.score(X_train_scaled, y_train))\n",
    "print('Accuracy of GNB on testing', gnb.score(X_test_scaled, y_test))"
   ]
  },
  {
   "cell_type": "code",
   "execution_count": null,
   "metadata": {},
   "outputs": [],
   "source": [
    "#Random Forest\n",
    "from sklearn.ensemble import RandomForestClassifier\n",
    "rf = RandomForestClassifier(n_estimators=200)\n",
    "rf = rf.fit(X_train_scaled, y_train)\n",
    "rf.score(X_test_scaled, y_test)\n",
    "print('Accuracy of Random Forest on training', rf.score(X_train_scaled, y_train))\n",
    "print('Accuracy of Random Forest on testing', rf.score(X_test_scaled, y_test))"
   ]
  },
  {
   "cell_type": "code",
   "execution_count": null,
   "metadata": {},
   "outputs": [],
   "source": [
    "#Random Forest\n",
    "from sklearn.ensemble import RandomForestClassifier\n",
    "rf1 = RandomForestClassifier(n_estimators=100)\n",
    "rf1 = rf.fit(X_train_scaled, y_train)\n",
    "rf1.score(X_test_scaled, y_test)\n",
    "print('Accuracy of Random Forest on training', rf1.score(X_train_scaled, y_train))\n",
    "print('Accuracy of Random Forest on testing', rf1.score(X_test_scaled, y_test))"
   ]
  },
  {
   "cell_type": "code",
   "execution_count": null,
   "metadata": {},
   "outputs": [],
   "source": [
    "# Support Vector Machine\n",
    "from sklearn.svm import SVC\n",
    "svm = SVC()\n",
    "svm.fit(X_train_scaled, y_train)\n",
    "print('Accuracy of SVM on training', svm.score(X_train_scaled, y_train))\n",
    "print('Accuracy of SVM on testing', svm.score(X_test_scaled, y_test))"
   ]
  },
  {
   "cell_type": "markdown",
   "metadata": {},
   "source": [
    "Overall, the Decision Tree with maximum depth 10 was our highest accuracy rate over all the models tested. "
   ]
  },
  {
   "cell_type": "markdown",
   "metadata": {},
   "source": [
    "# Now we save the file as a pickle to load"
   ]
  },
  {
   "cell_type": "code",
   "execution_count": 16,
   "metadata": {},
   "outputs": [],
   "source": [
    "import pickle"
   ]
  },
  {
   "cell_type": "code",
   "execution_count": 17,
   "metadata": {},
   "outputs": [],
   "source": [
    "pickle.dump(dt3, open('model.pkl','wb'))"
   ]
  },
  {
   "cell_type": "code",
   "execution_count": 18,
   "metadata": {},
   "outputs": [
    {
     "name": "stdout",
     "output_type": "stream",
     "text": [
      "[1]\n"
     ]
    }
   ],
   "source": [
    "# Loading model to compare the results\n",
    "model = pickle.load( open('model.pkl','rb'))\n",
    "print(model.predict([[0.00208204, 0.21621622, 0.        , 0.30128205]]))"
   ]
  },
  {
   "cell_type": "code",
   "execution_count": null,
   "metadata": {},
   "outputs": [],
   "source": [
    "[\"annual_inc\", \"fico_range_low\", \"term\", \"loan_amnt\"]"
   ]
  },
  {
   "cell_type": "code",
   "execution_count": 15,
   "metadata": {},
   "outputs": [
    {
     "data": {
      "text/plain": [
       "array([0.00213122, 0.16216216, 0.        , 0.35897436])"
      ]
     },
     "execution_count": 15,
     "metadata": {},
     "output_type": "execute_result"
    }
   ],
   "source": [
    "X_test_scaled[36]"
   ]
  },
  {
   "cell_type": "code",
   "execution_count": null,
   "metadata": {},
   "outputs": [],
   "source": []
  }
 ],
 "metadata": {
  "kernelspec": {
   "display_name": "Python 3",
   "language": "python",
   "name": "python3"
  },
  "language_info": {
   "codemirror_mode": {
    "name": "ipython",
    "version": 3
   },
   "file_extension": ".py",
   "mimetype": "text/x-python",
   "name": "python",
   "nbconvert_exporter": "python",
   "pygments_lexer": "ipython3",
   "version": "3.7.3"
  }
 },
 "nbformat": 4,
 "nbformat_minor": 2
}
