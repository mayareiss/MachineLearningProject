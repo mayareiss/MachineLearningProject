{
 "cells": [
  {
   "cell_type": "code",
   "execution_count": 1,
   "metadata": {},
   "outputs": [
    {
     "name": "stderr",
     "output_type": "stream",
     "text": [
      "/Users/Bons/opt/anaconda3/lib/python3.7/site-packages/sklearn/externals/joblib/__init__.py:15: DeprecationWarning: sklearn.externals.joblib is deprecated in 0.21 and will be removed in 0.23. Please import this functionality directly from joblib, which can be installed with: pip install joblib. If this warning is raised when loading pickled models, you may need to re-serialize those models with scikit-learn 0.21+.\n",
      "  warnings.warn(msg, category=DeprecationWarning)\n"
     ]
    }
   ],
   "source": [
    "import pandas as pd\n",
    "import pickle\n",
    "from sklearn.feature_extraction.text import CountVectorizer\n",
    "from sklearn.naive_bayes import MultinomialNB\n",
    "from sklearn.externals import joblib\n"
   ]
  },
  {
   "cell_type": "code",
   "execution_count": 2,
   "metadata": {},
   "outputs": [
    {
     "data": {
      "text/html": [
       "<div>\n",
       "<style scoped>\n",
       "    .dataframe tbody tr th:only-of-type {\n",
       "        vertical-align: middle;\n",
       "    }\n",
       "\n",
       "    .dataframe tbody tr th {\n",
       "        vertical-align: top;\n",
       "    }\n",
       "\n",
       "    .dataframe thead th {\n",
       "        text-align: right;\n",
       "    }\n",
       "</style>\n",
       "<table border=\"1\" class=\"dataframe\">\n",
       "  <thead>\n",
       "    <tr style=\"text-align: right;\">\n",
       "      <th></th>\n",
       "      <th>int_rate</th>\n",
       "      <th>annual_inc</th>\n",
       "      <th>dti</th>\n",
       "      <th>delinq_2yrs</th>\n",
       "      <th>fico_range_low</th>\n",
       "      <th>inq_last_6mths</th>\n",
       "      <th>mths_since_last_delinq</th>\n",
       "      <th>mths_since_last_record</th>\n",
       "      <th>open_acc</th>\n",
       "      <th>pub_rec</th>\n",
       "      <th>revol_bal</th>\n",
       "      <th>revol_util</th>\n",
       "      <th>total_acc</th>\n",
       "      <th>application_type</th>\n",
       "      <th>earliest_cr_line</th>\n",
       "      <th>tax_liens</th>\n",
       "      <th>pub_rec_bankruptcies</th>\n",
       "      <th>term</th>\n",
       "      <th>loan_amnt</th>\n",
       "      <th>credit_start_date</th>\n",
       "    </tr>\n",
       "  </thead>\n",
       "  <tbody>\n",
       "    <tr>\n",
       "      <td>0</td>\n",
       "      <td>1</td>\n",
       "      <td>68000.0</td>\n",
       "      <td>15.74</td>\n",
       "      <td>0.0</td>\n",
       "      <td>750.0</td>\n",
       "      <td>0.0</td>\n",
       "      <td>0.0</td>\n",
       "      <td>0.0</td>\n",
       "      <td>11.0</td>\n",
       "      <td>0.0</td>\n",
       "      <td>14471.0</td>\n",
       "      <td>30.6</td>\n",
       "      <td>15.0</td>\n",
       "      <td>Individual</td>\n",
       "      <td>Mar-10</td>\n",
       "      <td>0.0</td>\n",
       "      <td>0.0</td>\n",
       "      <td>36</td>\n",
       "      <td>13500.0</td>\n",
       "      <td>3</td>\n",
       "    </tr>\n",
       "    <tr>\n",
       "      <td>1</td>\n",
       "      <td>3</td>\n",
       "      <td>110000.0</td>\n",
       "      <td>23.44</td>\n",
       "      <td>0.0</td>\n",
       "      <td>675.0</td>\n",
       "      <td>0.0</td>\n",
       "      <td>39.0</td>\n",
       "      <td>0.0</td>\n",
       "      <td>12.0</td>\n",
       "      <td>0.0</td>\n",
       "      <td>13362.0</td>\n",
       "      <td>50.8</td>\n",
       "      <td>29.0</td>\n",
       "      <td>Individual</td>\n",
       "      <td>Sep-03</td>\n",
       "      <td>0.0</td>\n",
       "      <td>0.0</td>\n",
       "      <td>36</td>\n",
       "      <td>20000.0</td>\n",
       "      <td>1</td>\n",
       "    </tr>\n",
       "    <tr>\n",
       "      <td>2</td>\n",
       "      <td>2</td>\n",
       "      <td>27840.0</td>\n",
       "      <td>15.99</td>\n",
       "      <td>0.0</td>\n",
       "      <td>685.0</td>\n",
       "      <td>1.0</td>\n",
       "      <td>0.0</td>\n",
       "      <td>0.0</td>\n",
       "      <td>14.0</td>\n",
       "      <td>0.0</td>\n",
       "      <td>5771.0</td>\n",
       "      <td>30.9</td>\n",
       "      <td>20.0</td>\n",
       "      <td>Individual</td>\n",
       "      <td>Nov-11</td>\n",
       "      <td>0.0</td>\n",
       "      <td>0.0</td>\n",
       "      <td>36</td>\n",
       "      <td>1600.0</td>\n",
       "      <td>3</td>\n",
       "    </tr>\n",
       "    <tr>\n",
       "      <td>3</td>\n",
       "      <td>2</td>\n",
       "      <td>28000.0</td>\n",
       "      <td>8.62</td>\n",
       "      <td>0.0</td>\n",
       "      <td>700.0</td>\n",
       "      <td>0.0</td>\n",
       "      <td>49.0</td>\n",
       "      <td>0.0</td>\n",
       "      <td>7.0</td>\n",
       "      <td>0.0</td>\n",
       "      <td>4132.0</td>\n",
       "      <td>18.2</td>\n",
       "      <td>17.0</td>\n",
       "      <td>Individual</td>\n",
       "      <td>Jan-10</td>\n",
       "      <td>0.0</td>\n",
       "      <td>0.0</td>\n",
       "      <td>36</td>\n",
       "      <td>6400.0</td>\n",
       "      <td>3</td>\n",
       "    </tr>\n",
       "    <tr>\n",
       "      <td>4</td>\n",
       "      <td>2</td>\n",
       "      <td>72500.0</td>\n",
       "      <td>29.58</td>\n",
       "      <td>0.0</td>\n",
       "      <td>680.0</td>\n",
       "      <td>0.0</td>\n",
       "      <td>47.0</td>\n",
       "      <td>0.0</td>\n",
       "      <td>9.0</td>\n",
       "      <td>0.0</td>\n",
       "      <td>27733.0</td>\n",
       "      <td>74.2</td>\n",
       "      <td>20.0</td>\n",
       "      <td>Individual</td>\n",
       "      <td>Jul-07</td>\n",
       "      <td>0.0</td>\n",
       "      <td>0.0</td>\n",
       "      <td>60</td>\n",
       "      <td>16000.0</td>\n",
       "      <td>2</td>\n",
       "    </tr>\n",
       "  </tbody>\n",
       "</table>\n",
       "</div>"
      ],
      "text/plain": [
       "   int_rate  annual_inc    dti  delinq_2yrs  fico_range_low  inq_last_6mths  \\\n",
       "0         1     68000.0  15.74          0.0           750.0             0.0   \n",
       "1         3    110000.0  23.44          0.0           675.0             0.0   \n",
       "2         2     27840.0  15.99          0.0           685.0             1.0   \n",
       "3         2     28000.0   8.62          0.0           700.0             0.0   \n",
       "4         2     72500.0  29.58          0.0           680.0             0.0   \n",
       "\n",
       "   mths_since_last_delinq  mths_since_last_record  open_acc  pub_rec  \\\n",
       "0                     0.0                     0.0      11.0      0.0   \n",
       "1                    39.0                     0.0      12.0      0.0   \n",
       "2                     0.0                     0.0      14.0      0.0   \n",
       "3                    49.0                     0.0       7.0      0.0   \n",
       "4                    47.0                     0.0       9.0      0.0   \n",
       "\n",
       "   revol_bal  revol_util  total_acc application_type earliest_cr_line  \\\n",
       "0    14471.0        30.6       15.0       Individual           Mar-10   \n",
       "1    13362.0        50.8       29.0       Individual           Sep-03   \n",
       "2     5771.0        30.9       20.0       Individual           Nov-11   \n",
       "3     4132.0        18.2       17.0       Individual           Jan-10   \n",
       "4    27733.0        74.2       20.0       Individual           Jul-07   \n",
       "\n",
       "   tax_liens  pub_rec_bankruptcies  term  loan_amnt  credit_start_date  \n",
       "0        0.0                   0.0    36    13500.0                  3  \n",
       "1        0.0                   0.0    36    20000.0                  1  \n",
       "2        0.0                   0.0    36     1600.0                  3  \n",
       "3        0.0                   0.0    36     6400.0                  3  \n",
       "4        0.0                   0.0    60    16000.0                  2  "
      ]
     },
     "execution_count": 2,
     "metadata": {},
     "output_type": "execute_result"
    }
   ],
   "source": [
    "# Read CSV\n",
    "\n",
    "lc_df = pd.read_csv(\"final_df_project_3_0502c.csv\")\n",
    "lc_df.head()"
   ]
  },
  {
   "cell_type": "code",
   "execution_count": 3,
   "metadata": {},
   "outputs": [
    {
     "name": "stdout",
     "output_type": "stream",
     "text": [
      "         int_rate  annual_inc    dti  delinq_2yrs  fico_range_low  \\\n",
      "0               1     68000.0  15.74          0.0           750.0   \n",
      "1               3    110000.0  23.44          0.0           675.0   \n",
      "2               2     27840.0  15.99          0.0           685.0   \n",
      "3               2     28000.0   8.62          0.0           700.0   \n",
      "4               2     72500.0  29.58          0.0           680.0   \n",
      "...           ...         ...    ...          ...             ...   \n",
      "1273619         4    107000.0  11.65          3.0           670.0   \n",
      "1273620         1     65000.0  19.55          1.0           725.0   \n",
      "1273621         3     37000.0  20.56          0.0           705.0   \n",
      "1273622         2     41000.0  19.99          1.0           670.0   \n",
      "1273623         4    105700.0  27.26          1.0           695.0   \n",
      "\n",
      "         inq_last_6mths  mths_since_last_delinq  mths_since_last_record  \\\n",
      "0                   0.0                     0.0                     0.0   \n",
      "1                   0.0                    39.0                     0.0   \n",
      "2                   1.0                     0.0                     0.0   \n",
      "3                   0.0                    49.0                     0.0   \n",
      "4                   0.0                    47.0                     0.0   \n",
      "...                 ...                     ...                     ...   \n",
      "1273619             1.0                     4.0                    73.0   \n",
      "1273620             0.0                    12.0                     0.0   \n",
      "1273621             1.0                    65.0                     0.0   \n",
      "1273622             0.0                     0.0                     0.0   \n",
      "1273623             0.0                     6.0                     0.0   \n",
      "\n",
      "         open_acc  pub_rec  revol_bal  revol_util  total_acc application_type  \\\n",
      "0            11.0      0.0    14471.0        30.6       15.0       Individual   \n",
      "1            12.0      0.0    13362.0        50.8       29.0       Individual   \n",
      "2            14.0      0.0     5771.0        30.9       20.0       Individual   \n",
      "3             7.0      0.0     4132.0        18.2       17.0       Individual   \n",
      "4             9.0      0.0    27733.0        74.2       20.0       Individual   \n",
      "...           ...      ...        ...         ...        ...              ...   \n",
      "1273619      13.0      2.0     9688.0        24.9       24.0       Individual   \n",
      "1273620      15.0      0.0     9751.0        15.7       27.0       Individual   \n",
      "1273621      15.0      0.0    14300.0        47.0       21.0       Individual   \n",
      "1273622       9.0      0.0     1356.0        10.1       18.0       Individual   \n",
      "1273623      12.0      0.0    15252.0        72.6       23.0       Individual   \n",
      "\n",
      "        earliest_cr_line  tax_liens  pub_rec_bankruptcies  term  loan_amnt  \\\n",
      "0                 Mar-10        0.0                   0.0    36    13500.0   \n",
      "1                 Sep-03        0.0                   0.0    36    20000.0   \n",
      "2                 Nov-11        0.0                   0.0    36     1600.0   \n",
      "3                 Jan-10        0.0                   0.0    36     6400.0   \n",
      "4                 Jul-07        0.0                   0.0    60    16000.0   \n",
      "...                  ...        ...                   ...   ...        ...   \n",
      "1273619           Apr-95        1.0                   1.0    60    24000.0   \n",
      "1273620           Sep-93        0.0                   0.0    36    10000.0   \n",
      "1273621           May-93        0.0                   0.0    36    10050.0   \n",
      "1273622           May-90        0.0                   0.0    36     6000.0   \n",
      "1273623           Nov-97        0.0                   0.0    60    30000.0   \n",
      "\n",
      "         credit_start_date  \n",
      "0                        3  \n",
      "1                        1  \n",
      "2                        3  \n",
      "3                        3  \n",
      "4                        2  \n",
      "...                    ...  \n",
      "1273619                  1  \n",
      "1273620                  1  \n",
      "1273621                  1  \n",
      "1273622                  1  \n",
      "1273623                  1  \n",
      "\n",
      "[1273624 rows x 20 columns]\n"
     ]
    },
    {
     "ename": "AttributeError",
     "evalue": "'NoneType' object has no attribute 'shape'",
     "output_type": "error",
     "traceback": [
      "\u001b[0;31m---------------------------------------------------------------------------\u001b[0m",
      "\u001b[0;31mAttributeError\u001b[0m                            Traceback (most recent call last)",
      "\u001b[0;32m<ipython-input-3-3289fda83e72>\u001b[0m in \u001b[0;36m<module>\u001b[0;34m\u001b[0m\n\u001b[0;32m----> 1\u001b[0;31m \u001b[0mprint\u001b[0m\u001b[0;34m(\u001b[0m\u001b[0mlc_df\u001b[0m\u001b[0;34m)\u001b[0m\u001b[0;34m.\u001b[0m\u001b[0mshape\u001b[0m\u001b[0;34m(\u001b[0m\u001b[0;34m)\u001b[0m\u001b[0;34m\u001b[0m\u001b[0;34m\u001b[0m\u001b[0m\n\u001b[0m",
      "\u001b[0;31mAttributeError\u001b[0m: 'NoneType' object has no attribute 'shape'"
     ]
    }
   ],
   "source": [
    "print(lc_df).shape()"
   ]
  },
  {
   "cell_type": "code",
   "execution_count": null,
   "metadata": {},
   "outputs": [],
   "source": [
    "from pandas.plotting import scatter_matrix\n",
    "\n",
    "scatter_matrix(lc_df.drop(\"int_rate\", axis=1), figsize=(10,5))\n",
    "plt.show()"
   ]
  },
  {
   "cell_type": "code",
   "execution_count": 4,
   "metadata": {},
   "outputs": [
    {
     "data": {
      "text/html": [
       "<div>\n",
       "<style scoped>\n",
       "    .dataframe tbody tr th:only-of-type {\n",
       "        vertical-align: middle;\n",
       "    }\n",
       "\n",
       "    .dataframe tbody tr th {\n",
       "        vertical-align: top;\n",
       "    }\n",
       "\n",
       "    .dataframe thead th {\n",
       "        text-align: right;\n",
       "    }\n",
       "</style>\n",
       "<table border=\"1\" class=\"dataframe\">\n",
       "  <thead>\n",
       "    <tr style=\"text-align: right;\">\n",
       "      <th></th>\n",
       "      <th>annual_inc</th>\n",
       "      <th>dti</th>\n",
       "      <th>fico_range_low</th>\n",
       "      <th>pub_rec_bankruptcies</th>\n",
       "      <th>term</th>\n",
       "      <th>loan_amnt</th>\n",
       "    </tr>\n",
       "  </thead>\n",
       "  <tbody>\n",
       "    <tr>\n",
       "      <td>0</td>\n",
       "      <td>68000.0</td>\n",
       "      <td>15.74</td>\n",
       "      <td>750.0</td>\n",
       "      <td>0.0</td>\n",
       "      <td>36</td>\n",
       "      <td>13500.0</td>\n",
       "    </tr>\n",
       "    <tr>\n",
       "      <td>1</td>\n",
       "      <td>110000.0</td>\n",
       "      <td>23.44</td>\n",
       "      <td>675.0</td>\n",
       "      <td>0.0</td>\n",
       "      <td>36</td>\n",
       "      <td>20000.0</td>\n",
       "    </tr>\n",
       "    <tr>\n",
       "      <td>2</td>\n",
       "      <td>27840.0</td>\n",
       "      <td>15.99</td>\n",
       "      <td>685.0</td>\n",
       "      <td>0.0</td>\n",
       "      <td>36</td>\n",
       "      <td>1600.0</td>\n",
       "    </tr>\n",
       "    <tr>\n",
       "      <td>3</td>\n",
       "      <td>28000.0</td>\n",
       "      <td>8.62</td>\n",
       "      <td>700.0</td>\n",
       "      <td>0.0</td>\n",
       "      <td>36</td>\n",
       "      <td>6400.0</td>\n",
       "    </tr>\n",
       "    <tr>\n",
       "      <td>4</td>\n",
       "      <td>72500.0</td>\n",
       "      <td>29.58</td>\n",
       "      <td>680.0</td>\n",
       "      <td>0.0</td>\n",
       "      <td>60</td>\n",
       "      <td>16000.0</td>\n",
       "    </tr>\n",
       "    <tr>\n",
       "      <td>...</td>\n",
       "      <td>...</td>\n",
       "      <td>...</td>\n",
       "      <td>...</td>\n",
       "      <td>...</td>\n",
       "      <td>...</td>\n",
       "      <td>...</td>\n",
       "    </tr>\n",
       "    <tr>\n",
       "      <td>1273619</td>\n",
       "      <td>107000.0</td>\n",
       "      <td>11.65</td>\n",
       "      <td>670.0</td>\n",
       "      <td>1.0</td>\n",
       "      <td>60</td>\n",
       "      <td>24000.0</td>\n",
       "    </tr>\n",
       "    <tr>\n",
       "      <td>1273620</td>\n",
       "      <td>65000.0</td>\n",
       "      <td>19.55</td>\n",
       "      <td>725.0</td>\n",
       "      <td>0.0</td>\n",
       "      <td>36</td>\n",
       "      <td>10000.0</td>\n",
       "    </tr>\n",
       "    <tr>\n",
       "      <td>1273621</td>\n",
       "      <td>37000.0</td>\n",
       "      <td>20.56</td>\n",
       "      <td>705.0</td>\n",
       "      <td>0.0</td>\n",
       "      <td>36</td>\n",
       "      <td>10050.0</td>\n",
       "    </tr>\n",
       "    <tr>\n",
       "      <td>1273622</td>\n",
       "      <td>41000.0</td>\n",
       "      <td>19.99</td>\n",
       "      <td>670.0</td>\n",
       "      <td>0.0</td>\n",
       "      <td>36</td>\n",
       "      <td>6000.0</td>\n",
       "    </tr>\n",
       "    <tr>\n",
       "      <td>1273623</td>\n",
       "      <td>105700.0</td>\n",
       "      <td>27.26</td>\n",
       "      <td>695.0</td>\n",
       "      <td>0.0</td>\n",
       "      <td>60</td>\n",
       "      <td>30000.0</td>\n",
       "    </tr>\n",
       "  </tbody>\n",
       "</table>\n",
       "<p>1273624 rows × 6 columns</p>\n",
       "</div>"
      ],
      "text/plain": [
       "         annual_inc    dti  fico_range_low  pub_rec_bankruptcies  term  \\\n",
       "0           68000.0  15.74           750.0                   0.0    36   \n",
       "1          110000.0  23.44           675.0                   0.0    36   \n",
       "2           27840.0  15.99           685.0                   0.0    36   \n",
       "3           28000.0   8.62           700.0                   0.0    36   \n",
       "4           72500.0  29.58           680.0                   0.0    60   \n",
       "...             ...    ...             ...                   ...   ...   \n",
       "1273619    107000.0  11.65           670.0                   1.0    60   \n",
       "1273620     65000.0  19.55           725.0                   0.0    36   \n",
       "1273621     37000.0  20.56           705.0                   0.0    36   \n",
       "1273622     41000.0  19.99           670.0                   0.0    36   \n",
       "1273623    105700.0  27.26           695.0                   0.0    60   \n",
       "\n",
       "         loan_amnt  \n",
       "0          13500.0  \n",
       "1          20000.0  \n",
       "2           1600.0  \n",
       "3           6400.0  \n",
       "4          16000.0  \n",
       "...            ...  \n",
       "1273619    24000.0  \n",
       "1273620    10000.0  \n",
       "1273621    10050.0  \n",
       "1273622     6000.0  \n",
       "1273623    30000.0  \n",
       "\n",
       "[1273624 rows x 6 columns]"
      ]
     },
     "execution_count": 4,
     "metadata": {},
     "output_type": "execute_result"
    }
   ],
   "source": [
    "# select features which will be used as X values\n",
    "selected_features = lc_df[[\"annual_inc\", \"dti\", \"fico_range_low\", \"pub_rec_bankruptcies\", \"term\", \"loan_amnt\"]]\n",
    "selected_features"
   ]
  },
  {
   "cell_type": "code",
   "execution_count": 5,
   "metadata": {},
   "outputs": [],
   "source": [
    "# declare X and y\n",
    "X = selected_features\n",
    "y = lc_df[\"int_rate\"]"
   ]
  },
  {
   "cell_type": "code",
   "execution_count": 6,
   "metadata": {},
   "outputs": [],
   "source": [
    "# create a train-test split\n",
    "from sklearn.model_selection import train_test_split\n",
    "\n",
    "X_train, X_test, y_train, y_test = train_test_split(X, y, test_size=0.33, random_state=42)"
   ]
  },
  {
   "cell_type": "code",
   "execution_count": 7,
   "metadata": {},
   "outputs": [
    {
     "data": {
      "text/html": [
       "<div>\n",
       "<style scoped>\n",
       "    .dataframe tbody tr th:only-of-type {\n",
       "        vertical-align: middle;\n",
       "    }\n",
       "\n",
       "    .dataframe tbody tr th {\n",
       "        vertical-align: top;\n",
       "    }\n",
       "\n",
       "    .dataframe thead th {\n",
       "        text-align: right;\n",
       "    }\n",
       "</style>\n",
       "<table border=\"1\" class=\"dataframe\">\n",
       "  <thead>\n",
       "    <tr style=\"text-align: right;\">\n",
       "      <th></th>\n",
       "      <th>annual_inc</th>\n",
       "      <th>dti</th>\n",
       "      <th>fico_range_low</th>\n",
       "      <th>pub_rec_bankruptcies</th>\n",
       "      <th>term</th>\n",
       "      <th>loan_amnt</th>\n",
       "    </tr>\n",
       "  </thead>\n",
       "  <tbody>\n",
       "    <tr>\n",
       "      <td>262207</td>\n",
       "      <td>44000.0</td>\n",
       "      <td>27.00</td>\n",
       "      <td>700.0</td>\n",
       "      <td>0.0</td>\n",
       "      <td>36</td>\n",
       "      <td>10000.0</td>\n",
       "    </tr>\n",
       "    <tr>\n",
       "      <td>288391</td>\n",
       "      <td>200000.0</td>\n",
       "      <td>3.50</td>\n",
       "      <td>670.0</td>\n",
       "      <td>0.0</td>\n",
       "      <td>60</td>\n",
       "      <td>15000.0</td>\n",
       "    </tr>\n",
       "    <tr>\n",
       "      <td>737430</td>\n",
       "      <td>35000.0</td>\n",
       "      <td>17.83</td>\n",
       "      <td>660.0</td>\n",
       "      <td>0.0</td>\n",
       "      <td>36</td>\n",
       "      <td>3125.0</td>\n",
       "    </tr>\n",
       "    <tr>\n",
       "      <td>924661</td>\n",
       "      <td>40000.0</td>\n",
       "      <td>29.70</td>\n",
       "      <td>705.0</td>\n",
       "      <td>1.0</td>\n",
       "      <td>36</td>\n",
       "      <td>12000.0</td>\n",
       "    </tr>\n",
       "    <tr>\n",
       "      <td>215721</td>\n",
       "      <td>48000.0</td>\n",
       "      <td>36.65</td>\n",
       "      <td>795.0</td>\n",
       "      <td>0.0</td>\n",
       "      <td>60</td>\n",
       "      <td>15150.0</td>\n",
       "    </tr>\n",
       "  </tbody>\n",
       "</table>\n",
       "</div>"
      ],
      "text/plain": [
       "        annual_inc    dti  fico_range_low  pub_rec_bankruptcies  term  \\\n",
       "262207     44000.0  27.00           700.0                   0.0    36   \n",
       "288391    200000.0   3.50           670.0                   0.0    60   \n",
       "737430     35000.0  17.83           660.0                   0.0    36   \n",
       "924661     40000.0  29.70           705.0                   1.0    36   \n",
       "215721     48000.0  36.65           795.0                   0.0    60   \n",
       "\n",
       "        loan_amnt  \n",
       "262207    10000.0  \n",
       "288391    15000.0  \n",
       "737430     3125.0  \n",
       "924661    12000.0  \n",
       "215721    15150.0  "
      ]
     },
     "execution_count": 7,
     "metadata": {},
     "output_type": "execute_result"
    }
   ],
   "source": [
    "X_train.head()"
   ]
  },
  {
   "cell_type": "code",
   "execution_count": 8,
   "metadata": {},
   "outputs": [
    {
     "data": {
      "text/plain": [
       "262207    1\n",
       "288391    3\n",
       "737430    1\n",
       "924661    2\n",
       "215721    2\n",
       "Name: int_rate, dtype: int64"
      ]
     },
     "execution_count": 8,
     "metadata": {},
     "output_type": "execute_result"
    }
   ],
   "source": [
    "y_train.head()"
   ]
  },
  {
   "cell_type": "code",
   "execution_count": 9,
   "metadata": {},
   "outputs": [],
   "source": [
    "# Scale data using StandardScaler assuming our data is linear // don't scale y\n",
    "from sklearn.preprocessing import StandardScaler\n",
    "scaler = StandardScaler()\n",
    "\n",
    "X_train_scaled = scaler.fit_transform(X_train)\n",
    "X_test_scaled = scaler.transform(X_test)\n",
    "\n",
    "# Other step to scale X:\n",
    "# X_scaler = StandardScaler().fit(X_train)\n",
    "# X_train_scaled = X_scaler.transform(X_train)\n",
    "# X_test_scaled = X_scaler.transform(X_test)"
   ]
  },
  {
   "cell_type": "code",
   "execution_count": 10,
   "metadata": {},
   "outputs": [
    {
     "name": "stdout",
     "output_type": "stream",
     "text": [
      "Accuracy of Knn on training 0.599894764967281\n",
      "Accuracy of Knn on testing 0.4283409787387936\n"
     ]
    }
   ],
   "source": [
    "# Running KNN Model\n",
    "from sklearn.neighbors import KNeighborsClassifier\n",
    "knn = KNeighborsClassifier()\n",
    "knn.fit(X_train_scaled, y_train)\n",
    "print('Accuracy of Knn on training', knn.score(X_train_scaled, y_train))\n",
    "print('Accuracy of Knn on testing', knn.score(X_test_scaled, y_test))"
   ]
  },
  {
   "cell_type": "code",
   "execution_count": 11,
   "metadata": {},
   "outputs": [
    {
     "name": "stderr",
     "output_type": "stream",
     "text": [
      "/Users/Bons/opt/anaconda3/lib/python3.7/site-packages/sklearn/linear_model/logistic.py:432: FutureWarning: Default solver will be changed to 'lbfgs' in 0.22. Specify a solver to silence this warning.\n",
      "  FutureWarning)\n",
      "/Users/Bons/opt/anaconda3/lib/python3.7/site-packages/sklearn/linear_model/logistic.py:469: FutureWarning: Default multi_class will be changed to 'auto' in 0.22. Specify the multi_class option to silence this warning.\n",
      "  \"this warning.\", FutureWarning)\n"
     ]
    },
    {
     "name": "stdout",
     "output_type": "stream",
     "text": [
      "Accuracy of logistic regression on training 0.4609774904843155\n",
      "Accuracy of logistic regression on testing 0.45914070083940844\n"
     ]
    }
   ],
   "source": [
    "## Logistic Regression\n",
    "from sklearn.linear_model import LogisticRegression\n",
    "logreg = LogisticRegression()\n",
    "logreg.fit(X_train_scaled, y_train)\n",
    "\n",
    "print('Accuracy of logistic regression on training', logreg.score(X_train_scaled, y_train))\n",
    "print('Accuracy of logistic regression on testing', logreg.score(X_test_scaled, y_test))"
   ]
  },
  {
   "cell_type": "code",
   "execution_count": 12,
   "metadata": {},
   "outputs": [
    {
     "name": "stdout",
     "output_type": "stream",
     "text": [
      "Accuracy of Decision tree on training 0.998126160163501\n",
      "Accuracy of Decision tree on testing 0.38279926527970765\n"
     ]
    }
   ],
   "source": [
    "## Decision Tree\n",
    "from sklearn.tree import DecisionTreeClassifier\n",
    "dt = DecisionTreeClassifier()\n",
    "dt.fit(X_train_scaled, y_train)\n",
    "\n",
    "print('Accuracy of Decision tree on training', dt.score(X_train_scaled, y_train))\n",
    "print('Accuracy of Decision tree on testing', dt.score(X_test_scaled, y_test))"
   ]
  },
  {
   "cell_type": "code",
   "execution_count": 13,
   "metadata": {},
   "outputs": [
    {
     "name": "stdout",
     "output_type": "stream",
     "text": [
      "Accuracy of Decision tree on training 0.45344228713929463\n",
      "Accuracy of Decision tree on testing 0.451317642804119\n"
     ]
    }
   ],
   "source": [
    "# Setting max decision tree depth to help avoid overfitting\n",
    "dt2 = DecisionTreeClassifier(max_depth=3)\n",
    "dt2.fit(X_train_scaled, y_train)\n",
    "print('Accuracy of Decision tree on training', dt2.score(X_train_scaled, y_train))\n",
    "print('Accuracy of Decision tree on testing', dt2.score(X_test_scaled, y_test))"
   ]
  },
  {
   "cell_type": "code",
   "execution_count": 18,
   "metadata": {},
   "outputs": [
    {
     "name": "stdout",
     "output_type": "stream",
     "text": [
      "Accuracy of Decision tree on training 0.4831506759417246\n",
      "Accuracy of Decision tree on testing 0.4767544777966005\n"
     ]
    }
   ],
   "source": [
    "# Setting max decision tree depth to help avoid overfitting\n",
    "dt10 = DecisionTreeClassifier(max_depth=10)\n",
    "dt10.fit(X_train_scaled, y_train)\n",
    "print('Accuracy of Decision tree on training', dt2.score(X_train_scaled, y_train))\n",
    "print('Accuracy of Decision tree on testing', dt2.score(X_test_scaled, y_test))"
   ]
  },
  {
   "cell_type": "code",
   "execution_count": 14,
   "metadata": {},
   "outputs": [
    {
     "name": "stdout",
     "output_type": "stream",
     "text": [
      "Accuracy of Knn on training 0.4660048656554103\n",
      "Accuracy of Knn on testing 0.46530064525953135\n"
     ]
    }
   ],
   "source": [
    "# Linear Discriminant Analysis \n",
    "from sklearn.discriminant_analysis import LinearDiscriminantAnalysis\n",
    "lda = LinearDiscriminantAnalysis()\n",
    "lda.fit(X_train_scaled,y_train)\n",
    "print('Accuracy of Linear Discriminant on training', lda.score(X_train_scaled, y_train))\n",
    "print('Accuracy of Linear Discriminant on testing', lda.score(X_test_scaled, y_test))"
   ]
  },
  {
   "cell_type": "code",
   "execution_count": 15,
   "metadata": {},
   "outputs": [
    {
     "name": "stdout",
     "output_type": "stream",
     "text": [
      "Accuracy of GNB on training 0.4273479834248964\n",
      "Accuracy of GNB on testing 0.42678969107486153\n"
     ]
    }
   ],
   "source": [
    "# Gaussian Naive Bayes \n",
    "from sklearn.naive_bayes import GaussianNB\n",
    "gnb = GaussianNB()\n",
    "gnb.fit(X_train_scaled, y_train)\n",
    "print('Accuracy of GNB on training', gnb.score(X_train_scaled, y_train))\n",
    "print('Accuracy of GNB on testing', gnb.score(X_test_scaled, y_test))"
   ]
  },
  {
   "cell_type": "code",
   "execution_count": 16,
   "metadata": {},
   "outputs": [
    {
     "name": "stdout",
     "output_type": "stream",
     "text": [
      "Accuracy of SVM on training 0.47742251514071965\n",
      "Accuracy of SVM on testing 0.47559814987532595\n"
     ]
    }
   ],
   "source": [
    "# Support Vector Machine\n",
    "from sklearn.svm import SVC\n",
    "svm = SVC()\n",
    "svm.fit(X_train_scaled, y_train)\n",
    "print('Accuracy of SVM on training', svm.score(X_train_scaled, y_train))\n",
    "print('Accuracy of SVM on testing', svm.score(X_test_scaled, y_test))"
   ]
  },
  {
   "cell_type": "code",
   "execution_count": null,
   "metadata": {},
   "outputs": [],
   "source": [
    "# Random Forest\n",
    "from sklearn.ensemble import RandomForestClassifier\n",
    "rf = RandomForestClassifier(n_estimators=200)\n",
    "rf = rf.fit(X_train_scaled, y_train)\n",
    "rf.score(X_test_scaled, y_test)\n",
    "print('Accuracy of RF on training', svm.score(X_train_scaled, y_train))\n",
    "print('Accuracy of RF on testing', svm.score(X_test_scaled, y_test))"
   ]
  },
  {
   "cell_type": "code",
   "execution_count": null,
   "metadata": {},
   "outputs": [],
   "source": [
    "# # Defining the Model\n",
    "# from keras.models import Sequential\n",
    "\n",
    "# model = Sequential()"
   ]
  },
  {
   "cell_type": "code",
   "execution_count": null,
   "metadata": {},
   "outputs": [],
   "source": [
    "# from keras.layers import Dense\n",
    "\n",
    "# # if we input annual income, loan amount, fico... (others TBD)\n",
    "# number_inputs = 3\n",
    "# #  from inputs we will determin annual income, dti, loan amount, fico, interest\n",
    "# number_hidden_nodes = 4\n",
    "# model.add(Dense(units=number_hidden_nodes,\n",
    "#                 activation='relu', input_dim=number_inputs))"
   ]
  },
  {
   "cell_type": "code",
   "execution_count": null,
   "metadata": {},
   "outputs": [],
   "source": [
    "# # we want to determine loan amount - assuming you get the loan and interest rate\n",
    "# # OR interest rate per two terms: 36 or 60 months\n",
    "# number_classes = 2\n",
    "# model.add(Dense(units=number_classes, activation='softmax'))"
   ]
  },
  {
   "cell_type": "code",
   "execution_count": null,
   "metadata": {},
   "outputs": [],
   "source": [
    "import pickle\n",
    "\n",
    "# Saving model to disk, \"wb\" = write in binary\n",
    "pickle.dump(dt3, open('model.pkl','wb'))\n",
    "\n",
    "# Loading model to compare the results\n",
    "model = pickle.load( open('model.pkl','rb'))\n",
    "# Test an input [[\"annual_inc\", \"dti\", \"fico_range_low\", \"pub_rec_bankruptcies\", \"term\", \"loan_amnt\"]]\n",
    "print(model.predict([[120000]]))"
   ]
  },
  {
   "cell_type": "code",
   "execution_count": null,
   "metadata": {},
   "outputs": [],
   "source": [
    "X_test_scaled[36]\n",
    "\n",
    "# info inputted as double bracket\n",
    "# scale the info located in bracket"
   ]
  }
 ],
 "metadata": {
  "kernelspec": {
   "display_name": "Python 3",
   "language": "python",
   "name": "python3"
  },
  "language_info": {
   "codemirror_mode": {
    "name": "ipython",
    "version": 3
   },
   "file_extension": ".py",
   "mimetype": "text/x-python",
   "name": "python",
   "nbconvert_exporter": "python",
   "pygments_lexer": "ipython3",
   "version": "3.7.4"
  }
 },
 "nbformat": 4,
 "nbformat_minor": 2
}
